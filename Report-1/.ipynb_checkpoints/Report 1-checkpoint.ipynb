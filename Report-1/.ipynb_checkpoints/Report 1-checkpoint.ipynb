{
 "cells": [
  {
   "cell_type": "markdown",
   "metadata": {},
   "source": [
    "# Project report (Sep 28)\n"
   ]
  },
  {
   "cell_type": "markdown",
   "metadata": {},
   "source": [
    "## Independent Cascating\n"
   ]
  },
  {
   "cell_type": "code",
   "execution_count": 26,
   "metadata": {
    "collapsed": true
   },
   "outputs": [],
   "source": [
    "%matplotlib inline\n",
    "import time\n",
    "import numpy as np\n",
    "import matplotlib.pyplot as plt\n",
    "import networkx as nx\n",
    "import json\n",
    "from networkx.readwrite import json_graph\n"
   ]
  },
  {
   "cell_type": "code",
   "execution_count": 27,
   "metadata": {
    "collapsed": false
   },
   "outputs": [],
   "source": [
    "with open(\"graph/nc_mini.json\", \"r\") as graph_data:\n",
    "    graph_data = json.load(graph_data)\n",
    "    NC_digraph = json_graph.node_link_graph(graph_data)"
   ]
  },
  {
   "cell_type": "code",
   "execution_count": 28,
   "metadata": {
    "collapsed": false
   },
   "outputs": [
    {
     "name": "stdout",
     "output_type": "stream",
     "text": [
      "zvT0EHoB_aDE4MnoZly0ew\n"
     ]
    }
   ],
   "source": [
    "# np.random.seed(24)\n",
    "init_nodes = np.random.choice(NC_digraph.nodes(), 1)[0]\n",
    "print init_nodes"
   ]
  },
  {
   "cell_type": "code",
   "execution_count": 29,
   "metadata": {
    "collapsed": false
   },
   "outputs": [
    {
     "name": "stdout",
     "output_type": "stream",
     "text": [
      "[1, 2, 3]\n",
      "[1, 2, 3, 4]\n"
     ]
    }
   ],
   "source": [
    "a = [1,2,3]\n",
    "b = a[::]\n",
    "b.append(4)\n",
    "print a\n",
    "print b\n"
   ]
  },
  {
   "cell_type": "code",
   "execution_count": 34,
   "metadata": {
    "collapsed": true
   },
   "outputs": [],
   "source": [
    "# A. Cascate function\n",
    "def cascade(init_nodes):#, dist_d):\n",
    "    action = {}\n",
    "    n = len(init_nodes)\n",
    "    #np.random.seed(random_d)\n",
    "    #init_nodes = np.random.choice(NC_digraph.nodes(), 1)[0]\n",
    "    for i in init_nodes:\n",
    "        action[i] = 1\n",
    "    #st = set()\n",
    "    #st.add(init_nodes)\n",
    "    init_list = init_nodes[::]\n",
    "    while len(init_list) != 0 :\n",
    "        curr_node = init_list.pop(0)\n",
    "        for i in NC_digraph[curr_node]:\n",
    "            if i not in action:\n",
    "                b = NC_digraph.node[i]['review_count']\n",
    "                a =  NC_digraph[curr_node][i]['weight']\n",
    "                #np.random.seed(12)\n",
    "                b_dist = np.sqrt(np.random.beta(a = a, b = b))\n",
    "                #np.random.seed(12)\n",
    "                u_dist = np.random.uniform(0,1)\n",
    "                if b_dist > u_dist:\n",
    "                    action[i] = 1\n",
    "                    #st.add(i)\n",
    "                    init_list.append(i)\n",
    "                    n = n + 1\n",
    "\n",
    "    return n"
   ]
  },
  {
   "cell_type": "code",
   "execution_count": 43,
   "metadata": {
    "collapsed": true
   },
   "outputs": [],
   "source": [
    "# Given the initial nodes, run independent cascades for N times to get the mean of number of nodes been activated\n",
    "def b_test(N, init_nodes):\n",
    "    result = []\n",
    "    #start_time  = time.time()\n",
    "#     np.random.seed(24)\n",
    "    for i in range(N):\n",
    "        r = cascade(init_nodes)\n",
    "        result.append(r)\n",
    "    return np.mean(result)"
   ]
  },
  {
   "cell_type": "code",
   "execution_count": 44,
   "metadata": {
    "collapsed": false
   },
   "outputs": [
    {
     "name": "stdout",
     "output_type": "stream",
     "text": [
      "0.39964389801\n"
     ]
    }
   ],
   "source": [
    "# b-test timing\n",
    "start = time.time()\n",
    "b_test(1000, init_nodes)\n",
    "print time.time() - start"
   ]
  },
  {
   "cell_type": "code",
   "execution_count": 45,
   "metadata": {
    "collapsed": true
   },
   "outputs": [],
   "source": [
    "def c_test(N, init_nodes):\n",
    "    result = []\n",
    "    for i in range(100):\n",
    "        tmp = b_test(N, init_nodes)\n",
    "        result.append(tmp)\n",
    "    return {'mean':np.mean(result), 'std': np.std(result), 'max': np.maximum(result), 'min': np.minimum(result)}\n",
    "\n",
    "def test_plot(sample_list):\n",
    "    sample_mean = []\n",
    "    sample_std = []\n",
    "    for i in sample_list:\n",
    "#         sample_mean.append(c_test(i)['mean'])\n",
    "        sample_std.append(c_test(i, init_nodes)['std'])\n",
    "#     plt.plot(sample_list, sample_mean, label = 'MEAN')\n",
    "    plt.plot(sample_list, sample_std, label = 'STD')\n",
    "    print 'mean', sample_mean\n",
    "    print 'std', sample_std\n",
    "    plt.legend()"
   ]
  },
  {
   "cell_type": "code",
   "execution_count": 42,
   "metadata": {
    "collapsed": false
   },
   "outputs": [
    {
     "name": "stdout",
     "output_type": "stream",
     "text": [
      "mean []\n",
      "std [4.9056916943485147, 4.3933898927821105, 2.2742717515723578, 1.6534474409548072, 0.91724115573701637, 0.77107291899015618, 0.50521606021582488]\n"
     ]
    },
    {
     "data": {
      "image/png": "[encoded data removed]",
      "text/plain": [
       "<matplotlib.figure.Figure at 0x106bd6250>"
      ]
     },
     "metadata": {},
     "output_type": "display_data"
    }
   ],
   "source": [
    "test_plot([10,20, 50, 100, 300,500, 1000])"
   ]
  },
  {
   "cell_type": "markdown",
   "metadata": {},
   "source": [
    "##Run Influence function f(S) with |S| = 2, N = 10,000   \n",
    "Your starting nodes should be: \n",
    "   'E6Eh1bz6fpo6EOPtctA-sg', 'VFOwxpOWH9RZ3iMelkRd7A'\n"
   ]
  },
  {
   "cell_type": "code",
   "execution_count": 46,
   "metadata": {
    "collapsed": false
   },
   "outputs": [
    {
     "ename": "ValueError",
     "evalue": "invalid number of arguments",
     "output_type": "error",
     "traceback": [
      "\u001b[0;31m---------------------------------------------------------------------------\u001b[0m",
      "\u001b[0;31mValueError\u001b[0m                                Traceback (most recent call last)",
      "\u001b[0;32m<ipython-input-46-236da6b99fe5>\u001b[0m in \u001b[0;36m<module>\u001b[0;34m()\u001b[0m\n\u001b[1;32m      1\u001b[0m \u001b[0minit_nodes\u001b[0m \u001b[0;34m=\u001b[0m \u001b[0;34m[\u001b[0m\u001b[0;34m'E6Eh1bz6fpo6EOPtctA-sg'\u001b[0m\u001b[0;34m,\u001b[0m \u001b[0;34m'VFOwxpOWH9RZ3iMelkRd7A'\u001b[0m\u001b[0;34m]\u001b[0m\u001b[0;34m\u001b[0m\u001b[0m\n\u001b[0;32m----> 2\u001b[0;31m \u001b[0mresult\u001b[0m \u001b[0;34m=\u001b[0m \u001b[0mc_test\u001b[0m\u001b[0;34m(\u001b[0m\u001b[0;36m10000\u001b[0m\u001b[0;34m,\u001b[0m \u001b[0minit_nodes\u001b[0m\u001b[0;34m)\u001b[0m\u001b[0;34m\u001b[0m\u001b[0m\n\u001b[0m\u001b[1;32m      3\u001b[0m \u001b[0;32mprint\u001b[0m \u001b[0mresult\u001b[0m\u001b[0;34m[\u001b[0m\u001b[0;34m'mean'\u001b[0m\u001b[0;34m]\u001b[0m\u001b[0;34m,\u001b[0m \u001b[0mresult\u001b[0m\u001b[0;34m[\u001b[0m\u001b[0;34m'std'\u001b[0m\u001b[0;34m]\u001b[0m\u001b[0;34m\u001b[0m\u001b[0m\n",
      "\u001b[0;32m<ipython-input-45-b83929c056f1>\u001b[0m in \u001b[0;36mc_test\u001b[0;34m(N, init_nodes)\u001b[0m\n\u001b[1;32m      4\u001b[0m         \u001b[0mtmp\u001b[0m \u001b[0;34m=\u001b[0m \u001b[0mb_test\u001b[0m\u001b[0;34m(\u001b[0m\u001b[0mN\u001b[0m\u001b[0;34m,\u001b[0m \u001b[0minit_nodes\u001b[0m\u001b[0;34m)\u001b[0m\u001b[0;34m\u001b[0m\u001b[0m\n\u001b[1;32m      5\u001b[0m         \u001b[0mresult\u001b[0m\u001b[0;34m.\u001b[0m\u001b[0mappend\u001b[0m\u001b[0;34m(\u001b[0m\u001b[0mtmp\u001b[0m\u001b[0;34m)\u001b[0m\u001b[0;34m\u001b[0m\u001b[0m\n\u001b[0;32m----> 6\u001b[0;31m     \u001b[0;32mreturn\u001b[0m \u001b[0;34m{\u001b[0m\u001b[0;34m'mean'\u001b[0m\u001b[0;34m:\u001b[0m\u001b[0mnp\u001b[0m\u001b[0;34m.\u001b[0m\u001b[0mmean\u001b[0m\u001b[0;34m(\u001b[0m\u001b[0mresult\u001b[0m\u001b[0;34m)\u001b[0m\u001b[0;34m,\u001b[0m \u001b[0;34m'std'\u001b[0m\u001b[0;34m:\u001b[0m \u001b[0mnp\u001b[0m\u001b[0;34m.\u001b[0m\u001b[0mstd\u001b[0m\u001b[0;34m(\u001b[0m\u001b[0mresult\u001b[0m\u001b[0;34m)\u001b[0m\u001b[0;34m,\u001b[0m \u001b[0;34m'max'\u001b[0m\u001b[0;34m:\u001b[0m \u001b[0mnp\u001b[0m\u001b[0;34m.\u001b[0m\u001b[0mmaximum\u001b[0m\u001b[0;34m(\u001b[0m\u001b[0mresult\u001b[0m\u001b[0;34m)\u001b[0m\u001b[0;34m,\u001b[0m \u001b[0;34m'min'\u001b[0m\u001b[0;34m:\u001b[0m \u001b[0mnp\u001b[0m\u001b[0;34m.\u001b[0m\u001b[0mminimum\u001b[0m\u001b[0;34m(\u001b[0m\u001b[0mresult\u001b[0m\u001b[0;34m)\u001b[0m\u001b[0;34m}\u001b[0m\u001b[0;34m\u001b[0m\u001b[0m\n\u001b[0m\u001b[1;32m      7\u001b[0m \u001b[0;34m\u001b[0m\u001b[0m\n\u001b[1;32m      8\u001b[0m \u001b[0;32mdef\u001b[0m \u001b[0mtest_plot\u001b[0m\u001b[0;34m(\u001b[0m\u001b[0msample_list\u001b[0m\u001b[0;34m)\u001b[0m\u001b[0;34m:\u001b[0m\u001b[0;34m\u001b[0m\u001b[0m\n",
      "\u001b[0;31mValueError\u001b[0m: invalid number of arguments"
     ]
    }
   ],
   "source": [
    "init_nodes = ['E6Eh1bz6fpo6EOPtctA-sg', 'VFOwxpOWH9RZ3iMelkRd7A']\n",
    "result = c_test(10000, init_nodes)\n",
    "print result['mean'], result['std']"
   ]
  },
  {
   "cell_type": "code",
   "execution_count": null,
   "metadata": {
    "collapsed": false
   },
   "outputs": [],
   "source": [
    "nodes_set = NC_digraph.nodes()"
   ]
  },
  {
   "cell_type": "code",
   "execution_count": null,
   "metadata": {
    "collapsed": false
   },
   "outputs": [],
   "source": [
    "# return the node that maximize influence on the basis of current nodes\n",
    "def getMaxGreedy(nodes_set, N, curr_nodes):\n",
    "    result = []\n",
    "    max_node = None\n",
    "    max_influence = 0\n",
    "    for i in nodes_set:\n",
    "        tmp = b_test(N, curr_nodes + [i])\n",
    "        if tmp > max_influence:\n",
    "            max_node = i\n",
    "            max_influence = tmp\n",
    "    return max_node\n"
   ]
  },
  {
   "cell_type": "markdown",
   "metadata": {},
   "source": [
    "### |S|=3 Influence Maximization Problem Solution"
   ]
  },
  {
   "cell_type": "code",
   "execution_count": 47,
   "metadata": {
    "collapsed": false
   },
   "outputs": [],
   "source": [
    "def calculateS3(nodes_set):\n",
    "    # Perform getMaxGreedy for three times to get the solution for S3\n",
    "    opt1 = getMaxGreedy(nodes_set, 1000, [])\n",
    "    nodes_set.remove(opt1)\n",
    "    opt2 = getMaxGreedy(nodes_set,1000, [opt1])\n",
    "    nodes_set.remove(opt2)\n",
    "    opt3 = getMaxGreedy(nodes_set, 1000, [opt1, opt2])\n",
    "    \n",
    "    max_influence = b_test(1000,[opt1, opt2, opt3])\n",
    "\n",
    "    print 'The key to |S|=3 Influence Maximization Problem is'\n",
    "    print opt1, opt2, opt3\n",
    "    print \"The Maximized influence is: \", max_influence\n",
    "    \n",
    "    return ((opt1, opt2, opt3), max_influence)"
   ]
  },
  {
   "cell_type": "markdown",
   "metadata": {},
   "source": [
    "Run the greedy algorithm on the North Carolina graph 100 times.  Use N = 1,000, k = 3, [iterations of the tree, t = 10]\n",
    " \n",
    "Plot the observed maximum influence for each run of the 100 runs of the greedy algorithm.  Find the maximum and minimum of your runs, fmax and fmin.  The ratio fmin/fmax will be called δ (we used lambda for this variable in class, but I renamed it delta to avoid confusion with lambda in question 3.  In theory, this value shouldn't be less than 60%.  Be prepared to report your value.\n",
    " "
   ]
  },
  {
   "cell_type": "code",
   "execution_count": null,
   "metadata": {
    "collapsed": true
   },
   "outputs": [],
   "source": [
    "np.maximum"
   ]
  },
  {
   "cell_type": "code",
   "execution_count": null,
   "metadata": {
    "collapsed": true
   },
   "outputs": [],
   "source": [
    "#mul_cascade is a improved version of b_test to get mean, max and min values of independent cascades\n",
    "\n",
    "def mul_cascade(N, init_nodes):\n",
    "    result = []\n",
    "    #start_time  = time.time()\n",
    "#     np.random.seed(24)\n",
    "    for i in range(N):\n",
    "        r = cascade(init_nodes)\n",
    "        result.append(r)\n",
    "    return (np.mean(result), np.maximum(result), np.minimum(result))\n",
    "\n",
    "def getMaxGreedy_2(nodes_set, N, curr_nodes):\n",
    "    result = []\n",
    "    max_node = None\n",
    "    max_influence = 0\n",
    "    for i in nodes_set:\n",
    "        tmp = mul_cascade(N, curr_nodes + [i])\n",
    "        if tmp[0] > max_influence:\n",
    "            max_node = i\n",
    "            max_influence = tmp[0]\n",
    "    return {'max_node': max_node, 'max' = tmp[1], 'min' = tmp[2])\n"
   ]
  },
  {
   "cell_type": "code",
   "execution_count": null,
   "metadata": {
    "collapsed": false
   },
   "outputs": [],
   "source": [
    "#N: number of runs N in mul_cascade\n",
    "#K: number of initial nodes for influence maximization\n",
    "def calculateSN(nodes_set, N, K):\n",
    "    # Perform getMaxGreedy for three times to get the solution for S3\n",
    "    opt = []\n",
    "    curr_nodes = []\n",
    "    for i in range(K):\n",
    "        tmp = getMaxGreedy_2(nodes_set, 1000, curr_nodes)\n",
    "        nodes_set.remove(tmp[0])\n",
    "    nodes_set.remove(opt1)\n",
    "    opt2 = getMaxGreedy(nodes_set,1000, [opt1])\n",
    "    nodes_set.remove(opt2)\n",
    "    opt3 = getMaxGreedy(nodes_set, 1000, [opt1, opt2])\n",
    "    \n",
    "    max_influence = b_test(1000,[opt1, opt2, opt3])\n",
    "\n",
    "    print 'The key to |S|=3 Influence Maximization Problem is'\n",
    "    print opt1, opt2, opt3\n",
    "    print \"The Maximized influence is: \", max_influence\n",
    "    \n",
    "    return ((opt1, opt2, opt3), max_influence)"
   ]
  },
  {
   "cell_type": "code",
   "execution_count": 15,
   "metadata": {
    "collapsed": true
   },
   "outputs": [],
   "source": [
    "def multiRun(num, nodes_set):\n",
    "    fmin = []\n",
    "    fmax = []\n",
    "    for i in xrange[num]:\n",
    "        tmp = getMaxGreedy_2(nodes_set, )\n",
    "    \n",
    "    ratio = fmin/(fmax + 0.0)\n",
    "    plot(ratio)\n",
    "        \n",
    "    \n",
    "    "
   ]
  },
  {
   "cell_type": "code",
   "execution_count": 16,
   "metadata": {
    "collapsed": false
   },
   "outputs": [
    {
     "ename": "NameError",
     "evalue": "name 'nodes_set' is not defined",
     "output_type": "error",
     "traceback": [
      "\u001b[0;31m---------------------------------------------------------------------------\u001b[0m",
      "\u001b[0;31mNameError\u001b[0m                                 Traceback (most recent call last)",
      "\u001b[0;32m<ipython-input-16-bdfa266f81ee>\u001b[0m in \u001b[0;36m<module>\u001b[0;34m()\u001b[0m\n\u001b[0;32m----> 1\u001b[0;31m \u001b[0mmultiRun\u001b[0m\u001b[0;34m(\u001b[0m\u001b[0;36m10\u001b[0m\u001b[0;34m,\u001b[0m \u001b[0mnodes_set\u001b[0m\u001b[0;34m)\u001b[0m\u001b[0;34m\u001b[0m\u001b[0m\n\u001b[0m",
      "\u001b[0;31mNameError\u001b[0m: name 'nodes_set' is not defined"
     ]
    }
   ],
   "source": [
    "multiRun(10, nodes_set)"
   ]
  },
  {
   "cell_type": "markdown",
   "metadata": {},
   "source": [
    "###Repeat the traveling salesman problem, but add noise to the edge weights (we're simulating traffic lights and other possible delays).  "
   ]
  },
  {
   "cell_type": "code",
   "execution_count": null,
   "metadata": {
    "collapsed": true
   },
   "outputs": [],
   "source": [
    "# Generate 25 Cities on 2D Euclidean Plane\n",
    "x = np.linspace(1,10,5)\n",
    "y = np.linspace(1,10,5)\n",
    "tmpx, tmpy =  np.meshgrid(x,y)\n",
    "\n",
    "cities = np.array([tmpx, tmpy])\n",
    "cities = np.reshape(cities, (2,-1)).T\n",
    "\n",
    "plt.scatter(cities[:,0], cities[:,1])\n",
    "plt.xlim(0,11)\n",
    "plt.ylim(0,11)\n",
    "plt.show()"
   ]
  },
  {
   "cell_type": "code",
   "execution_count": null,
   "metadata": {
    "collapsed": true
   },
   "outputs": [],
   "source": [
    "def plot_path(pcities):\n",
    "    plt.plot(pcities[1:,0], pcities[1:,1],'o')\n",
    "    plt.plot(pcities[:,0], pcities[:,1])\n",
    "    plt.plot(pcities[0,0], pcities[0,1], '^')\n",
    "    plt.xlim(np.min(pcities[:,0])-1, np.max(pcities[:,0])+1)\n",
    "    plt.ylim(np.min(pcities[:,1])-1, np.max(pcities[:,1])+1)"
   ]
  },
  {
   "cell_type": "code",
   "execution_count": null,
   "metadata": {
    "collapsed": true
   },
   "outputs": [],
   "source": [
    "plot_path(cities)"
   ]
  },
  {
   "cell_type": "code",
   "execution_count": null,
   "metadata": {
    "collapsed": true
   },
   "outputs": [],
   "source": [
    "def distance(citypath):\n",
    "    distance = 0\n",
    "    number_of_cities = len(citypath)\n",
    "    \n",
    "    # loop over all cities\n",
    "    for j in xrange(number_of_cities):\n",
    "        if j == (number_of_cities - 1): # FINAL POINT CONNECTS WITH THE FIRST ONE\n",
    "            distance += np.linalg.norm(citypath[j,:] - citypath[0,:])\n",
    "        else:\n",
    "            distance += np.linalg.norm(citypath[j,:] - citypath[j+1,:])\n",
    "    return distance"
   ]
  },
  {
   "cell_type": "code",
   "execution_count": 93,
   "metadata": {
    "collapsed": true
   },
   "outputs": [],
   "source": [
    "# Helper Function \n",
    "def swapindex(cities):\n",
    "    indices = range(len(cities))\n",
    "    # take two random indices to swap\n",
    "    c1,c2 = np.random.choice(indices, 2, replace=False)\n",
    "    \n",
    "    # remember the cities to swap\n",
    "    tmp1 = cities[c1,:]\n",
    "    tmp2 = cities[c2,:]\n",
    "    \n",
    "    # do the actual swapping\n",
    "    changedCities = cities.copy()\n",
    "    changedCities[c1,:] = tmp2\n",
    "    changedCities[c2,:] = tmp1\n",
    "    \n",
    "    return changedCities\n",
    "\n",
    "def changepath(inputcities, n_swaps):\n",
    "    cities = inputcities.copy()\n",
    "    # Make n_swaps number of swaps\n",
    "    for i in range(n_swaps):\n",
    "        swappedCities = swapindex(cities)\n",
    "        cities=swappedCities.copy()\n",
    "\n",
    "    return cities"
   ]
  },
  {
   "cell_type": "code",
   "execution_count": null,
   "metadata": {
    "collapsed": true
   },
   "outputs": [],
   "source": [
    "# TODO\n",
    "def simulated_annealing_rst(function, initial_X, initial_temp, cool, reanneal, iterr):\n",
    "    \n",
    "    accepted = 0\n",
    "    X = initial_X.copy()\n",
    "    T = initial_temp\n",
    "    \n",
    "    history = list()\n",
    "    # Evaluate E\n",
    "    prev_E = function(X)\n",
    "    history.append(prev_E)\n",
    "    \n",
    "    for i in xrange(iterr):\n",
    "        # Propose new path.\n",
    "        X_star = changepath(X, 2)\n",
    "        # Evaluate E\n",
    "        new_E = function(X_star)\n",
    "        delta_E = new_E - prev_E\n",
    "        \n",
    "        # Flip a coin\n",
    "        U = np.random.uniform()\n",
    "        if U < np.exp(-delta_E / T):\n",
    "            accepted += 1\n",
    "            history.append(new_E)\n",
    "            # Copy X_star to X\n",
    "            X = X_star.copy()\n",
    "            prev_E = new_E\n",
    "\n",
    "        # Check to cool down\n",
    "        if accepted % reanneal == 0:\n",
    "            T *= cool\n",
    "            if T < 0.001: # Reheat\n",
    "                T = 1.\n",
    "            \n",
    "    return X, history"
   ]
  },
  {
   "cell_type": "code",
   "execution_count": null,
   "metadata": {
    "collapsed": true
   },
   "outputs": [],
   "source": [
    "# Simulated Annealing Parameters\n",
    "initial_X = cities # Start random\n",
    "initial_temp = 2.\n",
    "cool = 0.9\n",
    "reanneal = 100\n",
    "iterr = 30000"
   ]
  },
  {
   "cell_type": "code",
   "execution_count": null,
   "metadata": {
    "collapsed": true
   },
   "outputs": [],
   "source": [
    "solution, history = simulated_annealing_rst(distance, initial_X, initial_temp, cool, reanneal, iterr)"
   ]
  },
  {
   "cell_type": "code",
   "execution_count": null,
   "metadata": {
    "collapsed": true
   },
   "outputs": [],
   "source": [
    "plt.figure(figsize=(12,8))\n",
    "plt.plot(history)\n",
    "plt.title(\"History\")\n",
    "plt.ylabel(\"$f(x_1,x_2)$\",fontsize=12)\n",
    "plt.xlabel(\"Accepted\", fontsize=12)\n",
    "plt.show()"
   ]
  }
 ],
 "metadata": {
  "kernelspec": {
   "display_name": "Python 2",
   "language": "python",
   "name": "python2"
  },
  "language_info": {
   "codemirror_mode": {
    "name": "ipython",
    "version": 2
   },
   "file_extension": ".py",
   "mimetype": "text/x-python",
   "name": "python",
   "nbconvert_exporter": "python",
   "pygments_lexer": "ipython2",
   "version": "2.7.10"
  }
 },
 "nbformat": 4,
 "nbformat_minor": 0
}
