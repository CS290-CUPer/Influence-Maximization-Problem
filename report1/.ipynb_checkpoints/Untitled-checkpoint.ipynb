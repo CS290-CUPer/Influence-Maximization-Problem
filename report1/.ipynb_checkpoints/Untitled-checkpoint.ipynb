{
 "cells": [
  {
   "cell_type": "code",
   "execution_count": 1,
   "metadata": {
    "collapsed": true
   },
   "outputs": [],
   "source": [
    "%matplotlib inline\n",
    "import time\n",
    "import numpy as np\n",
    "import matplotlib.pyplot as plt\n",
    "import networkx as nx\n",
    "import json\n",
    "from networkx.readwrite import json_graph\n"
   ]
  },
  {
   "cell_type": "code",
   "execution_count": 2,
   "metadata": {
    "collapsed": true
   },
   "outputs": [],
   "source": [
    "import findspark\n",
    "findspark.find()\n",
    "findspark.init(edit_profile=True)\n",
    "import pyspark\n",
    "sc = pyspark.SparkContext()"
   ]
  },
  {
   "cell_type": "code",
   "execution_count": 7,
   "metadata": {
    "collapsed": false
   },
   "outputs": [],
   "source": [
    "with open(\"../../graph/US.json\", \"r\") as graph_data:\n",
    "    us_data = json.load(graph_data)\n",
    "    us_digraph = json_graph.node_link_graph(us_data)\n",
    "    "
   ]
  },
  {
   "cell_type": "code",
   "execution_count": 9,
   "metadata": {
    "collapsed": true
   },
   "outputs": [],
   "source": [
    "us_empty_nodes = [i for i in us_digraph.nodes() if not us_digraph.succ[i]]"
   ]
  },
  {
   "cell_type": "code",
   "execution_count": 10,
   "metadata": {
    "collapsed": true
   },
   "outputs": [],
   "source": [
    "us_N_neighbor_nodes = [i for i in us_digraph.nodes() if len(us_digraph.succ[i]) >= 500]"
   ]
  },
  {
   "cell_type": "code",
   "execution_count": 11,
   "metadata": {
    "collapsed": false
   },
   "outputs": [
    {
     "data": {
      "text/plain": [
       "197"
      ]
     },
     "execution_count": 11,
     "metadata": {},
     "output_type": "execute_result"
    }
   ],
   "source": [
    "len(us_N_neighbor_nodes)"
   ]
  },
  {
   "cell_type": "code",
   "execution_count": 17,
   "metadata": {
    "collapsed": false
   },
   "outputs": [
    {
     "name": "stdout",
     "output_type": "stream",
     "text": [
      "Kqvfep2mxS10S50FbVDi4Q : 183899\n",
      "kpbhy1zPewGDmdNfNqQp-g : 183950\n",
      "ChgmBht69bnqSdDxpWMAqQ : 184189\n",
      "6l_ATA06SBvvPDMvMiKQgw : 183784\n",
      "lRfdcptGBxolpkBPlZ358A : 184078\n",
      "4LOUTfHA1tZQ7qyNDLQuow : 184164\n",
      "3gIfcQq5KxAegwCPXc83cQ : 184209\n",
      "xT3nCjsC6LHtrid-0LWQ_w : 184100\n",
      "twtWSkxomLIpDplupkVoVw : 184173\n",
      "WmAyExqSWoiYZ5XEqpk_Uw : 184165\n",
      "auVkTXPmA8o3oU8barlBSw : 184057\n",
      "xV1hf20ZFDSoaMZmwLoHNg : 184020\n",
      "k5p3YP1ZjCa8ZS3xqXgBug : 183902\n",
      "zTWH9b_ItSdLOK9ypeFOIw : 183915\n",
      "kGgAARL2UmvCcTRfiscjug : 184387\n",
      "i8KMQX7nekLSCzb_DVb6yA : 183912\n",
      "gzJpPaHN-NXBkAZcZri3hw : 184197\n",
      "uZbTb-u-GVjTa2gtQfry5g : 184029\n",
      "9A2-wSoBUxlMd3LwmlGrrQ : 184005\n",
      "Oa2GOM0oMhVxbfh-53N88w : 184098\n",
      "ri0xJJElIs47Tm1xvn1dOA : 183962\n",
      "knZduWPnQA0kQ9Rrq4lUhg : 183951\n"
     ]
    },
    {
     "ename": "KeyboardInterrupt",
     "evalue": "",
     "output_type": "error",
     "traceback": [
      "\u001b[0;31m---------------------------------------------------------------------------\u001b[0m",
      "\u001b[0;31mKeyboardInterrupt\u001b[0m                         Traceback (most recent call last)",
      "\u001b[0;32m<ipython-input-17-37db195d7971>\u001b[0m in \u001b[0;36m<module>\u001b[0;34m()\u001b[0m\n\u001b[1;32m      2\u001b[0m \u001b[0minfluence_list\u001b[0m \u001b[0;34m=\u001b[0m \u001b[0;34m{\u001b[0m\u001b[0;34m}\u001b[0m\u001b[0;34m\u001b[0m\u001b[0m\n\u001b[1;32m      3\u001b[0m \u001b[0;32mfor\u001b[0m \u001b[0mi\u001b[0m \u001b[0;32min\u001b[0m \u001b[0mus_N_neighbor_nodes\u001b[0m\u001b[0;34m:\u001b[0m\u001b[0;34m\u001b[0m\u001b[0m\n\u001b[0;32m----> 4\u001b[0;31m     \u001b[0minfluence_list\u001b[0m\u001b[0;34m[\u001b[0m\u001b[0mi\u001b[0m\u001b[0;34m]\u001b[0m \u001b[0;34m=\u001b[0m \u001b[0mcascade\u001b[0m\u001b[0;34m(\u001b[0m\u001b[0;34m[\u001b[0m\u001b[0mi\u001b[0m\u001b[0;34m]\u001b[0m\u001b[0;34m,\u001b[0m \u001b[0mus_digraph\u001b[0m\u001b[0;34m)\u001b[0m\u001b[0;34m\u001b[0m\u001b[0m\n\u001b[0m\u001b[1;32m      5\u001b[0m     \u001b[0;32mprint\u001b[0m \u001b[0mi\u001b[0m\u001b[0;34m,\u001b[0m \u001b[0;34m':'\u001b[0m\u001b[0;34m,\u001b[0m \u001b[0minfluence_list\u001b[0m\u001b[0;34m[\u001b[0m\u001b[0mi\u001b[0m\u001b[0;34m]\u001b[0m\u001b[0;34m\u001b[0m\u001b[0m\n\u001b[1;32m      6\u001b[0m \u001b[0msorted_max_potential_nodes\u001b[0m \u001b[0;34m=\u001b[0m \u001b[0msorted\u001b[0m\u001b[0;34m(\u001b[0m\u001b[0minfluence_list\u001b[0m\u001b[0;34m.\u001b[0m\u001b[0mitems\u001b[0m\u001b[0;34m(\u001b[0m\u001b[0;34m)\u001b[0m\u001b[0;34m,\u001b[0m \u001b[0mkey\u001b[0m\u001b[0;34m=\u001b[0m\u001b[0;32mlambda\u001b[0m \u001b[0mx\u001b[0m\u001b[0;34m:\u001b[0m \u001b[0mx\u001b[0m\u001b[0;34m[\u001b[0m\u001b[0;36m1\u001b[0m\u001b[0;34m]\u001b[0m\u001b[0;34m,\u001b[0m \u001b[0mreverse\u001b[0m\u001b[0;34m=\u001b[0m\u001b[0mTrue\u001b[0m \u001b[0;34m)\u001b[0m\u001b[0;34m\u001b[0m\u001b[0m\n",
      "\u001b[0;32m<ipython-input-15-f192c273e370>\u001b[0m in \u001b[0;36mcascade\u001b[0;34m(init_nodes, nodes_set_broadcast)\u001b[0m\n\u001b[1;32m     17\u001b[0m             \u001b[0;32mif\u001b[0m \u001b[0mi\u001b[0m \u001b[0;32mnot\u001b[0m \u001b[0;32min\u001b[0m \u001b[0maction\u001b[0m\u001b[0;34m:\u001b[0m\u001b[0;34m\u001b[0m\u001b[0m\n\u001b[1;32m     18\u001b[0m                 \u001b[0mb\u001b[0m \u001b[0;34m=\u001b[0m \u001b[0mnodes_set\u001b[0m\u001b[0;34m.\u001b[0m\u001b[0mnode\u001b[0m\u001b[0;34m[\u001b[0m\u001b[0mi\u001b[0m\u001b[0;34m]\u001b[0m\u001b[0;34m[\u001b[0m\u001b[0;34m'review_count'\u001b[0m\u001b[0;34m]\u001b[0m\u001b[0;34m\u001b[0m\u001b[0m\n\u001b[0;32m---> 19\u001b[0;31m                 \u001b[0ma\u001b[0m \u001b[0;34m=\u001b[0m  \u001b[0mnodes_set\u001b[0m\u001b[0;34m[\u001b[0m\u001b[0mcurr_node\u001b[0m\u001b[0;34m[\u001b[0m\u001b[0;36m1\u001b[0m\u001b[0;34m]\u001b[0m\u001b[0;34m]\u001b[0m\u001b[0;34m[\u001b[0m\u001b[0mi\u001b[0m\u001b[0;34m]\u001b[0m\u001b[0;34m[\u001b[0m\u001b[0;34m'weight'\u001b[0m\u001b[0;34m]\u001b[0m\u001b[0;34m\u001b[0m\u001b[0m\n\u001b[0m\u001b[1;32m     20\u001b[0m                 \u001b[0;31m#np.random.seed(12)\u001b[0m\u001b[0;34m\u001b[0m\u001b[0;34m\u001b[0m\u001b[0m\n\u001b[1;32m     21\u001b[0m                 \u001b[0mb_dist\u001b[0m \u001b[0;34m=\u001b[0m \u001b[0mnp\u001b[0m\u001b[0;34m.\u001b[0m\u001b[0msqrt\u001b[0m\u001b[0;34m(\u001b[0m\u001b[0mnp\u001b[0m\u001b[0;34m.\u001b[0m\u001b[0mrandom\u001b[0m\u001b[0;34m.\u001b[0m\u001b[0mbeta\u001b[0m\u001b[0;34m(\u001b[0m\u001b[0ma\u001b[0m \u001b[0;34m=\u001b[0m \u001b[0ma\u001b[0m\u001b[0;34m,\u001b[0m \u001b[0mb\u001b[0m \u001b[0;34m=\u001b[0m \u001b[0mb\u001b[0m\u001b[0;34m)\u001b[0m\u001b[0;34m)\u001b[0m\u001b[0;34m\u001b[0m\u001b[0m\n",
      "\u001b[0;31mKeyboardInterrupt\u001b[0m: "
     ]
    }
   ],
   "source": [
    "start = time.time()\n",
    "influence_list = {}\n",
    "for i in us_N_neighbor_nodes:\n",
    "    influence_list[i] = cascade([i], us_digraph)\n",
    "    print i, ':', influence_list[i]\n",
    "sorted_max_potential_nodes = sorted(influence_list.items(), key=lambda x: x[1], reverse=True )\n",
    "\n",
    "print 'max potential node set', sorted_max_potential_nodes[:3]"
   ]
  },
  {
   "cell_type": "code",
   "execution_count": 18,
   "metadata": {
    "collapsed": true
   },
   "outputs": [],
   "source": [
    "def cascade(init_nodes, nodes_set_broadcast):#, dist_d):\n",
    "    nodes_set = nodes_set_broadcast\n",
    "    action = {}\n",
    "    n = len(init_nodes)\n",
    "    #np.random.seed(random_d)\n",
    "    #init_nodes = np.random.choice(NC_digraph.nodes(), 1)[0]\n",
    "    for i in init_nodes:\n",
    "        action[i] = 1\n",
    "    #st = set()\n",
    "    #st.add(init_nodes)\n",
    "    init_list = zip([0]*len(init_nodes),init_nodes[::])\n",
    "    inter = 0\n",
    "    while len(init_list) != 0:\n",
    "        curr_node = init_list.pop(0)\n",
    "        #print curr_node\n",
    "        for i in nodes_set[curr_node[1]]:\n",
    "            if i not in action:\n",
    "                b = nodes_set.node[i]['review_count']\n",
    "                a =  nodes_set[curr_node[1]][i]['weight']\n",
    "                #np.random.seed(12)\n",
    "                b_dist = np.sqrt(np.random.beta(a = a, b = b))\n",
    "                #np.random.seed(12)\n",
    "                u_dist = np.random.uniform(0,1)\n",
    "                if b_dist > u_dist:\n",
    "                    action[i] = 1\n",
    "                    #st.add(i)\n",
    "                    inter = curr_node[0] + 1\n",
    "                    init_list.append((inter, i))\n",
    "                    n = n + 1\n",
    "    return n\n",
    "\n",
    "def influence_function(N, init_nodes, partition_num):\n",
    "    nodes_set_broadcast = sc.broadcast(nc_full_digraph)\n",
    "    activated_num_rdd = sc.parallelize([init_nodes]*N, partition_num)\n",
    "    activated_num = activated_num_rdd.map(lambda x: cascade(x, nodes_set_broadcast)).reduce(lambda x, y: x+y)\n",
    "    return activated_num/N\n",
    "####################################################################################\n",
    "\n",
    "\n",
    "######################################################################################\n",
    "#\n",
    "#Simulated Annealing Algorithm Implementation\n",
    "#\n",
    "######################################################################################\n",
    "\n",
    "def next_step(X, nodes_set):\n",
    "    tmp = X[0]\n",
    "    while tmp in X:\n",
    "        tmp = np.random.choice(nodes_set)\n",
    "    X[np.random.choice(range(len(X)))] = tmp\n",
    "    return X\n",
    "\n",
    "\n",
    "def simulated_annealing_rst(function, N, partition_num, initial_X, initial_temp, cool, reanneal, iterr, nodes_set):\n",
    "    \n",
    "    accepted = 0\n",
    "    #X = initial_X.copy()\n",
    "    X = initial_X[::]\n",
    "    T = initial_temp\n",
    "    \n",
    "    history = list()\n",
    "    # Evaluate E\n",
    "    prev_E = function(N, X, partition_num)\n",
    "    history.append(prev_E)\n",
    "    \n",
    "    for i in xrange(iterr):\n",
    "        # Propose new path.\n",
    "        X_star = next_step(X, nodes_set)\n",
    "        # Evaluate E\n",
    "        new_E = function(N, X_star, partition_num)\n",
    "        delta_E = new_E - prev_E\n",
    "        \n",
    "        # Flip a coin\n",
    "        U = np.random.uniform()\n",
    "        \n",
    "        if U < np.exp(delta_E / T):\n",
    "            accepted += 1\n",
    "            history.append(new_E)\n",
    "            print 'value:', new_E\n",
    "            # Copy X_star to X\n",
    "            print \"this is\", i, \"iteration\"\n",
    "            #X = X_star.copy()\n",
    "            X = X_star[::]\n",
    "            print 'set:', X\n",
    "            prev_E = new_E\n",
    "        \n",
    "        # Check to cool down\n",
    "        if accepted % reanneal == 0:\n",
    "            T *= cool\n",
    "    return X, history"
   ]
  },
  {
   "cell_type": "code",
   "execution_count": null,
   "metadata": {
    "collapsed": true
   },
   "outputs": [],
   "source": []
  }
 ],
 "metadata": {
  "kernelspec": {
   "display_name": "Python 2",
   "language": "python",
   "name": "python2"
  },
  "language_info": {
   "codemirror_mode": {
    "name": "ipython",
    "version": 2
   },
   "file_extension": ".py",
   "mimetype": "text/x-python",
   "name": "python",
   "nbconvert_exporter": "python",
   "pygments_lexer": "ipython2",
   "version": "2.7.10"
  }
 },
 "nbformat": 4,
 "nbformat_minor": 0
}
