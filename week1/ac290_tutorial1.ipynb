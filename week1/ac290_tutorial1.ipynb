{
 "cells": [
  {
   "cell_type": "markdown",
   "metadata": {},
   "source": [
    "# AC290 Extreme Computing: Project-based High Performance Distributed and Parallel Systems"
   ]
  },
  {
   "cell_type": "markdown",
   "metadata": {},
   "source": [
    "## Module 1: Influence Maximization Problem"
   ]
  },
  {
   "cell_type": "markdown",
   "metadata": {},
   "source": [
    "<img src='img/AC290_IMP_graph1.png' style=\"width: 500px;\">\n",
    "<p style=\"text-align: center;\">Yelp Reviewer Network</p>"
   ]
  },
  {
   "cell_type": "code",
   "execution_count": 34,
   "metadata": {
    "collapsed": false
   },
   "outputs": [],
   "source": [
    "%matplotlib inline\n",
    "import time\n",
    "import numpy as np\n",
    "import matplotlib.pyplot as plt"
   ]
  },
  {
   "cell_type": "markdown",
   "metadata": {},
   "source": [
    "## 1. Python"
   ]
  },
  {
   "cell_type": "markdown",
   "metadata": {},
   "source": [
    "### 1.1. Time Profiling"
   ]
  },
  {
   "cell_type": "markdown",
   "metadata": {},
   "source": [
    "We'll examine two different ways to profile run time of a function by using the following function below:"
   ]
  },
  {
   "cell_type": "markdown",
   "metadata": {},
   "source": [
    "An example from http://www.huyng.com/posts/python-performance-analysis/"
   ]
  },
  {
   "cell_type": "code",
   "execution_count": 35,
   "metadata": {
    "collapsed": false
   },
   "outputs": [],
   "source": [
    "def primes(n): \n",
    "    if n == 2:\n",
    "        return [2]\n",
    "    elif n < 2:\n",
    "        return []\n",
    "    s = range(3,n+1,2)\n",
    "    mroot = n ** 0.5\n",
    "    half = (n + 1) / 2 - 1\n",
    "    i = 0; m = 3;\n",
    "    while m <= mroot:\n",
    "        if s[i]:\n",
    "            j = (m * m-3) / 2\n",
    "            s[j] = 0\n",
    "            while j < half:\n",
    "                s[j] = 0\n",
    "                j += m\n",
    "        i = i + 1\n",
    "        m = 2 * i + 3\n",
    "    return [2]+[x for x in s if x]"
   ]
  },
  {
   "cell_type": "markdown",
   "metadata": {},
   "source": [
    "The simplest method to evaluate your function's run time is to use Python's time module and manually print out the run time of your function.  This is a quick and dirty way to measure your function's performance."
   ]
  },
  {
   "cell_type": "code",
   "execution_count": 36,
   "metadata": {
    "collapsed": true
   },
   "outputs": [],
   "source": [
    "import time"
   ]
  },
  {
   "cell_type": "code",
   "execution_count": 37,
   "metadata": {
    "collapsed": false
   },
   "outputs": [
    {
     "name": "stdout",
     "output_type": "stream",
     "text": [
      "2.568427 Seconds\n"
     ]
    }
   ],
   "source": [
    "start = time.time()\n",
    "prime_nums = primes(int(10e6))\n",
    "duration = time.time() - start\n",
    "print \"%f Seconds\" % duration"
   ]
  },
  {
   "cell_type": "markdown",
   "metadata": {},
   "source": [
    "Using this approach, we can store the run time of the your function for analysis later on (mean, standard deviation, etc.). "
   ]
  },
  {
   "cell_type": "markdown",
   "metadata": {},
   "source": [
    "Expanding on this simple method, let's create a function decorator that will automate this process every time we want to evaluate a function's time performance."
   ]
  },
  {
   "cell_type": "code",
   "execution_count": 38,
   "metadata": {
    "collapsed": true
   },
   "outputs": [],
   "source": [
    "from functools import wraps\n",
    "\n",
    "def timefn(func):\n",
    "    @wraps(func)\n",
    "    def calc_time(*args, **kwargs):\n",
    "        t1=time.time()\n",
    "        result = func(*args,**kwargs)\n",
    "        t2=time.time()\n",
    "        print \"@timefn: %.5f Seconds\" % (t2-t1)\n",
    "        return result\n",
    "    return calc_time"
   ]
  },
  {
   "cell_type": "code",
   "execution_count": 39,
   "metadata": {
    "collapsed": true
   },
   "outputs": [],
   "source": [
    "@timefn\n",
    "def primes(n): \n",
    "    if n == 2:\n",
    "        return [2]\n",
    "    elif n < 2:\n",
    "        return []\n",
    "    s = range(3,n+1,2)\n",
    "    mroot = n ** 0.5\n",
    "    half = (n + 1) / 2 - 1\n",
    "    i = 0; m = 3;\n",
    "    while m <= mroot:\n",
    "        if s[i]:\n",
    "            j = (m * m-3) / 2\n",
    "            s[j] = 0\n",
    "            while j < half:\n",
    "                s[j] = 0\n",
    "                j += m\n",
    "        i = i + 1\n",
    "        m = 2 * i + 3\n",
    "    return [2]+[x for x in s if x]"
   ]
  },
  {
   "cell_type": "code",
   "execution_count": 40,
   "metadata": {
    "collapsed": false
   },
   "outputs": [
    {
     "name": "stdout",
     "output_type": "stream",
     "text": [
      "@timefn: 2.43784 Seconds\n"
     ]
    }
   ],
   "source": [
    "prime_nums = primes(int(10e6))"
   ]
  },
  {
   "cell_type": "markdown",
   "metadata": {},
   "source": [
    "Another simple method is to use iPython's %time magic function."
   ]
  },
  {
   "cell_type": "code",
   "execution_count": 41,
   "metadata": {
    "collapsed": false
   },
   "outputs": [
    {
     "name": "stdout",
     "output_type": "stream",
     "text": [
      "@timefn: 2.88802 Seconds\n",
      "CPU times: user 2.85 s, sys: 39.4 ms, total: 2.88 s\n",
      "Wall time: 2.91 s\n"
     ]
    }
   ],
   "source": [
    "%time prime_nums = primes(int(10e6))"
   ]
  },
  {
   "cell_type": "markdown",
   "metadata": {},
   "source": [
    "### 1.2. Set vs List vs Tuple"
   ]
  },
  {
   "cell_type": "markdown",
   "metadata": {},
   "source": [
    ">\"One of the most important things in writing efficient programs is understanding the guarantees of the data structures you use.  In fact, a large part of performant programming is understanding what questions you are trying to ask of your data and picking a data structure that you can answer these questions quickly.\" - Gorelick & Ozsvald"
   ]
  },
  {
   "cell_type": "markdown",
   "metadata": {},
   "source": [
    "Python provides 4 basic built-in data types - list, set, tuple, and dictionary (set without values).  We will compare the run time performance of each data types for different set of problems in order to understand which data structure provides the best solution to each unique problem."
   ]
  },
  {
   "cell_type": "code",
   "execution_count": 42,
   "metadata": {
    "collapsed": true
   },
   "outputs": [],
   "source": [
    "n = int(10e6)"
   ]
  },
  {
   "cell_type": "code",
   "execution_count": 43,
   "metadata": {
    "collapsed": true
   },
   "outputs": [],
   "source": [
    "python_list = list(xrange(n))\n",
    "python_set = set(xrange(n))\n",
    "python_tuple = tuple(xrange(n))"
   ]
  },
  {
   "cell_type": "markdown",
   "metadata": {},
   "source": [
    "### 1.2.1. Membership"
   ]
  },
  {
   "cell_type": "markdown",
   "metadata": {},
   "source": [
    "List - dynamic array"
   ]
  },
  {
   "cell_type": "code",
   "execution_count": 44,
   "metadata": {
    "collapsed": false
   },
   "outputs": [
    {
     "name": "stdout",
     "output_type": "stream",
     "text": [
      "False\n",
      "0.683922 Seconds\n"
     ]
    }
   ],
   "source": [
    "start = time.time()\n",
    "print n in python_list\n",
    "duration = time.time() - start\n",
    "print \"%f Seconds\" % duration"
   ]
  },
  {
   "cell_type": "markdown",
   "metadata": {},
   "source": [
    "Tuple - static array"
   ]
  },
  {
   "cell_type": "code",
   "execution_count": 45,
   "metadata": {
    "collapsed": false
   },
   "outputs": [
    {
     "name": "stdout",
     "output_type": "stream",
     "text": [
      "False\n",
      "0.366091 Seconds\n"
     ]
    }
   ],
   "source": [
    "start = time.time()\n",
    "print n in python_tuple\n",
    "duration = time.time() - start\n",
    "print \"%f Seconds\" % duration"
   ]
  },
  {
   "cell_type": "markdown",
   "metadata": {},
   "source": [
    "Tuples are cached by Python; therefore, performance may significantly improve after the first time a tuple is called."
   ]
  },
  {
   "cell_type": "code",
   "execution_count": 46,
   "metadata": {
    "collapsed": false
   },
   "outputs": [
    {
     "name": "stdout",
     "output_type": "stream",
     "text": [
      "False\n",
      "0.390532 Seconds\n"
     ]
    }
   ],
   "source": [
    "# Second Run\n",
    "start = time.time()\n",
    "print n in python_tuple\n",
    "duration = time.time() - start\n",
    "print \"%f Seconds\" % duration"
   ]
  },
  {
   "cell_type": "markdown",
   "metadata": {},
   "source": [
    "Set.  \n",
    "\n",
    "A set (or dictionary) is ideal data structure if your data does not have intrinsic order and have unique elements."
   ]
  },
  {
   "cell_type": "code",
   "execution_count": 47,
   "metadata": {
    "collapsed": false
   },
   "outputs": [
    {
     "name": "stdout",
     "output_type": "stream",
     "text": [
      "False\n",
      "0.000222 Seconds\n"
     ]
    }
   ],
   "source": [
    "start = time.time()\n",
    "print n in python_set\n",
    "duration = time.time() - start\n",
    "print \"%f Seconds\" % duration"
   ]
  },
  {
   "cell_type": "markdown",
   "metadata": {},
   "source": [
    "### 1.2.2. Iteration"
   ]
  },
  {
   "cell_type": "markdown",
   "metadata": {},
   "source": [
    "List"
   ]
  },
  {
   "cell_type": "code",
   "execution_count": 48,
   "metadata": {
    "collapsed": false
   },
   "outputs": [
    {
     "name": "stdout",
     "output_type": "stream",
     "text": [
      "1.592714 Seconds\n"
     ]
    }
   ],
   "source": [
    "start = time.time()\n",
    "for i in python_list:\n",
    "    i\n",
    "duration = time.time() - start\n",
    "print \"%f Seconds\" % duration"
   ]
  },
  {
   "cell_type": "markdown",
   "metadata": {},
   "source": [
    "Tuple"
   ]
  },
  {
   "cell_type": "code",
   "execution_count": 49,
   "metadata": {
    "collapsed": false
   },
   "outputs": [
    {
     "name": "stdout",
     "output_type": "stream",
     "text": [
      "0.919640 Seconds\n"
     ]
    }
   ],
   "source": [
    "start = time.time()\n",
    "for i in python_tuple:\n",
    "    i\n",
    "duration = time.time() - start\n",
    "print \"%f Seconds\" % duration"
   ]
  },
  {
   "cell_type": "markdown",
   "metadata": {},
   "source": [
    "Set"
   ]
  },
  {
   "cell_type": "code",
   "execution_count": 50,
   "metadata": {
    "collapsed": false
   },
   "outputs": [
    {
     "name": "stdout",
     "output_type": "stream",
     "text": [
      "1.602380 Seconds\n"
     ]
    }
   ],
   "source": [
    "start = time.time()\n",
    "for i in python_set:\n",
    "    i\n",
    "duration = time.time() - start\n",
    "print \"%f Seconds\" % duration"
   ]
  },
  {
   "cell_type": "markdown",
   "metadata": {},
   "source": [
    "### 1.3. List Comprehension vs For Loop"
   ]
  },
  {
   "cell_type": "markdown",
   "metadata": {},
   "source": [
    "For Loop"
   ]
  },
  {
   "cell_type": "code",
   "execution_count": 51,
   "metadata": {
    "collapsed": false
   },
   "outputs": [
    {
     "name": "stdout",
     "output_type": "stream",
     "text": [
      "2.328954 Seconds\n"
     ]
    }
   ],
   "source": [
    "start = time.time()\n",
    "list_forloop = list()\n",
    "for i in xrange(n):\n",
    "    list_forloop.append(i)\n",
    "duration = time.time() - start\n",
    "print \"%f Seconds\" % duration"
   ]
  },
  {
   "cell_type": "markdown",
   "metadata": {},
   "source": [
    "List Comprehension"
   ]
  },
  {
   "cell_type": "code",
   "execution_count": 52,
   "metadata": {
    "collapsed": false
   },
   "outputs": [
    {
     "name": "stdout",
     "output_type": "stream",
     "text": [
      "1.121428 Seconds\n"
     ]
    }
   ],
   "source": [
    "start = time.time()\n",
    "list_comprehension = [i for i in xrange(n)]\n",
    "duration = time.time() - start\n",
    "print \"%f Seconds\" % duration"
   ]
  },
  {
   "cell_type": "markdown",
   "metadata": {},
   "source": [
    "### 1.4. Mutability"
   ]
  },
  {
   "cell_type": "markdown",
   "metadata": {},
   "source": [
    "### 1.4.1. Comparing List vs Tuple"
   ]
  },
  {
   "cell_type": "code",
   "execution_count": 53,
   "metadata": {
    "collapsed": true
   },
   "outputs": [],
   "source": [
    "my_list = ['a','b','c','d']\n",
    "my_tuple = ('a','b','c','d')"
   ]
  },
  {
   "cell_type": "code",
   "execution_count": 54,
   "metadata": {
    "collapsed": false
   },
   "outputs": [
    {
     "data": {
      "text/plain": [
       "['A', 'b', 'c', 'd']"
      ]
     },
     "execution_count": 54,
     "metadata": {},
     "output_type": "execute_result"
    }
   ],
   "source": [
    "my_list[0] = 'A'\n",
    "my_list"
   ]
  },
  {
   "cell_type": "markdown",
   "metadata": {},
   "source": [
    "Let's attempt to change the first element of my_tuple."
   ]
  },
  {
   "cell_type": "code",
   "execution_count": 55,
   "metadata": {
    "collapsed": false
   },
   "outputs": [
    {
     "ename": "TypeError",
     "evalue": "'tuple' object does not support item assignment",
     "output_type": "error",
     "traceback": [
      "\u001b[0;31m---------------------------------------------------------------------------\u001b[0m",
      "\u001b[0;31mTypeError\u001b[0m                                 Traceback (most recent call last)",
      "\u001b[0;32m<ipython-input-55-44446392bca1>\u001b[0m in \u001b[0;36m<module>\u001b[0;34m()\u001b[0m\n\u001b[0;32m----> 1\u001b[0;31m \u001b[0mmy_tuple\u001b[0m\u001b[0;34m[\u001b[0m\u001b[0;36m0\u001b[0m\u001b[0;34m]\u001b[0m \u001b[0;34m=\u001b[0m \u001b[0;34m'A'\u001b[0m\u001b[0;34m\u001b[0m\u001b[0m\n\u001b[0m\u001b[1;32m      2\u001b[0m \u001b[0mmy_tuple\u001b[0m\u001b[0;34m\u001b[0m\u001b[0m\n",
      "\u001b[0;31mTypeError\u001b[0m: 'tuple' object does not support item assignment"
     ]
    }
   ],
   "source": [
    "my_tuple[0] = 'A'\n",
    "my_tuple"
   ]
  },
  {
   "cell_type": "markdown",
   "metadata": {},
   "source": [
    "### 1.4.2. Copying Lists"
   ]
  },
  {
   "cell_type": "code",
   "execution_count": null,
   "metadata": {
    "collapsed": true
   },
   "outputs": [],
   "source": [
    "my_list = ['a','b','c','d']"
   ]
  },
  {
   "cell_type": "code",
   "execution_count": null,
   "metadata": {
    "collapsed": false
   },
   "outputs": [],
   "source": [
    "my_list2 = my_list"
   ]
  },
  {
   "cell_type": "markdown",
   "metadata": {},
   "source": [
    "Let's change the second element of my_list2"
   ]
  },
  {
   "cell_type": "code",
   "execution_count": null,
   "metadata": {
    "collapsed": false
   },
   "outputs": [],
   "source": [
    "my_list2[1] = 'B'\n",
    "my_list2"
   ]
  },
  {
   "cell_type": "markdown",
   "metadata": {},
   "source": [
    "We ended up changing the second element in my_list to 'B'."
   ]
  },
  {
   "cell_type": "code",
   "execution_count": null,
   "metadata": {
    "collapsed": false
   },
   "outputs": [],
   "source": [
    "my_list"
   ]
  },
  {
   "cell_type": "markdown",
   "metadata": {},
   "source": [
    "To avoid this problem, there are three ways to copy a list that will leave the original list unperturbed. "
   ]
  },
  {
   "cell_type": "markdown",
   "metadata": {},
   "source": [
    "###### Make element-wise copy to a new list"
   ]
  },
  {
   "cell_type": "code",
   "execution_count": null,
   "metadata": {
    "collapsed": false
   },
   "outputs": [],
   "source": [
    "my_list = ['a','b','c','d']\n",
    "my_list2 = my_list[:]\n",
    "my_list2[1] = 'B'\n",
    "print \"my_list:\", my_list, \"| my_list2:\", my_list2"
   ]
  },
  {
   "cell_type": "markdown",
   "metadata": {},
   "source": [
    "##### Create a new list out of the original list"
   ]
  },
  {
   "cell_type": "code",
   "execution_count": null,
   "metadata": {
    "collapsed": false
   },
   "outputs": [],
   "source": [
    "my_list = ['a','b','c','d']\n",
    "my_list2 = list(my_list)\n",
    "my_list2[1] = 'B'\n",
    "print \"my_list:\", my_list, \"| my_list2:\", my_list2"
   ]
  },
  {
   "cell_type": "markdown",
   "metadata": {},
   "source": [
    "###### Import copy module and make a deepcopy"
   ]
  },
  {
   "cell_type": "code",
   "execution_count": null,
   "metadata": {
    "collapsed": false
   },
   "outputs": [],
   "source": [
    "my_list = ['a','b','c','d']\n",
    "import copy\n",
    "my_list2 = copy.deepcopy(my_list)\n",
    "my_list2[1] = 'B'\n",
    "print \"my_list:\", my_list, \"| my_list2:\", my_list2"
   ]
  },
  {
   "cell_type": "markdown",
   "metadata": {},
   "source": [
    "### 1.4. Line Profiling"
   ]
  },
  {
   "cell_type": "raw",
   "metadata": {},
   "source": [
    "$ pip install line-profiler"
   ]
  },
  {
   "cell_type": "code",
   "execution_count": null,
   "metadata": {
    "collapsed": false
   },
   "outputs": [],
   "source": [
    "import line_profiler\n",
    "import IPython\n",
    "ip = IPython.get_ipython()\n",
    "ip.define_magic('lprun', line_profiler.magic_lprun)"
   ]
  },
  {
   "cell_type": "markdown",
   "metadata": {},
   "source": [
    "Let's use the primes function that we used earlier to demonstrate what line-profiler can do for us."
   ]
  },
  {
   "cell_type": "code",
   "execution_count": null,
   "metadata": {
    "collapsed": false
   },
   "outputs": [],
   "source": [
    "def primes(n): \n",
    "    if n==2:\n",
    "        return [2]\n",
    "    elif n<2:\n",
    "        return []\n",
    "    s=range(3,n+1,2)\n",
    "    mroot = n ** 0.5\n",
    "    half=(n+1)/2-1\n",
    "    i=0\n",
    "    m=3\n",
    "    while m <= mroot:\n",
    "        if s[i]:\n",
    "            j=(m*m-3)/2\n",
    "            s[j]=0\n",
    "            while j<half:\n",
    "                s[j]=0\n",
    "                j+=m\n",
    "        i=i+1\n",
    "        m=2*i+3\n",
    "    return [2]+[x for x in s if x]"
   ]
  },
  {
   "cell_type": "code",
   "execution_count": null,
   "metadata": {
    "collapsed": false
   },
   "outputs": [],
   "source": [
    "%lprun -f primes primes(100)"
   ]
  },
  {
   "cell_type": "markdown",
   "metadata": {},
   "source": [
    "For detailed discussions about optimizing performance in Python, checkout [High Performance Python](http://shop.oreilly.com/product/0636920028963.do)\n",
    "<img src=\"img/lrg.jpg\" style=\"max-width: 200px;\">"
   ]
  },
  {
   "cell_type": "markdown",
   "metadata": {},
   "source": [
    "## 2. NetworkX"
   ]
  },
  {
   "cell_type": "markdown",
   "metadata": {},
   "source": [
    "NetworkX is a popular Python library used to model networks including social network graphs.  Using Networkx, we can model both undirected and directed graphs.\n",
    "\n",
    "For the Influence Maximization Problem, we will provide you with a pre-built graph of Yelp Reviewer network and ask you to use Networkx to implement the Independent Cascade function. "
   ]
  },
  {
   "cell_type": "markdown",
   "metadata": {},
   "source": [
    "### 2.1. Installation"
   ]
  },
  {
   "cell_type": "markdown",
   "metadata": {},
   "source": [
    "If you installed Python through Anaconda distribution, you should already have NetworkX in your Python environment.  \n",
    "\n",
    "If you do not have it, you may run the following command below."
   ]
  },
  {
   "cell_type": "raw",
   "metadata": {},
   "source": [
    "$ conda install networkx"
   ]
  },
  {
   "cell_type": "code",
   "execution_count": null,
   "metadata": {
    "collapsed": true
   },
   "outputs": [],
   "source": [
    "import networkx as nx"
   ]
  },
  {
   "cell_type": "code",
   "execution_count": null,
   "metadata": {
    "collapsed": false
   },
   "outputs": [],
   "source": [
    "nx.__version__"
   ]
  },
  {
   "cell_type": "markdown",
   "metadata": {},
   "source": [
    "You should use NetworkX version 1.8 or above."
   ]
  },
  {
   "cell_type": "markdown",
   "metadata": {},
   "source": [
    "### 2.2. Examples"
   ]
  },
  {
   "cell_type": "markdown",
   "metadata": {
    "collapsed": true
   },
   "source": [
    "Creating a sample graph"
   ]
  },
  {
   "cell_type": "code",
   "execution_count": null,
   "metadata": {
    "collapsed": true
   },
   "outputs": [],
   "source": [
    "random_graph = nx.erdos_renyi_graph(n=20,p=0.6,seed=42)"
   ]
  },
  {
   "cell_type": "markdown",
   "metadata": {},
   "source": [
    "Finding nodes"
   ]
  },
  {
   "cell_type": "code",
   "execution_count": null,
   "metadata": {
    "collapsed": false
   },
   "outputs": [],
   "source": [
    "random_graph.nodes()"
   ]
  },
  {
   "cell_type": "code",
   "execution_count": null,
   "metadata": {
    "collapsed": false
   },
   "outputs": [],
   "source": [
    "random_graph[12]"
   ]
  },
  {
   "cell_type": "markdown",
   "metadata": {},
   "source": [
    "Finding edges"
   ]
  },
  {
   "cell_type": "code",
   "execution_count": null,
   "metadata": {
    "collapsed": false,
    "scrolled": true
   },
   "outputs": [],
   "source": [
    "random_graph.edges()"
   ]
  },
  {
   "cell_type": "code",
   "execution_count": null,
   "metadata": {
    "collapsed": false
   },
   "outputs": [],
   "source": [
    "random_graph.edge[0][3]"
   ]
  },
  {
   "cell_type": "markdown",
   "metadata": {},
   "source": [
    "Storing edge weights"
   ]
  },
  {
   "cell_type": "code",
   "execution_count": null,
   "metadata": {
    "collapsed": false
   },
   "outputs": [],
   "source": [
    "for s,t in random_graph.edges_iter():\n",
    "    random_graph[s][t]['weight'] = np.random.uniform()"
   ]
  },
  {
   "cell_type": "code",
   "execution_count": null,
   "metadata": {
    "collapsed": false
   },
   "outputs": [],
   "source": [
    "random_graph.edge[0][3]"
   ]
  },
  {
   "cell_type": "markdown",
   "metadata": {
    "collapsed": true
   },
   "source": [
    "For more examples, please explore the [NetworkX documentation](http://networkx.readthedocs.org/en/stable/index.html)."
   ]
  },
  {
   "cell_type": "markdown",
   "metadata": {},
   "source": [
    "### 2.3. Exploring Yelp Review Network "
   ]
  },
  {
   "cell_type": "markdown",
   "metadata": {},
   "source": [
    "Before we scale up the Influence Maximization Problem on larger network, we will work with a \"toy\" network that is a sample of North Carolina reviewer network.  This network contains 240 nodes and 920 edges.\n",
    "\n",
    "By week 3, you will solve the IMP on this smaller network, and by week 4, you will implement your algorithms on the larger network, which contains over 350 thousand nodes and 4 million edges."
   ]
  },
  {
   "cell_type": "code",
   "execution_count": null,
   "metadata": {
    "collapsed": true
   },
   "outputs": [],
   "source": [
    "import json\n",
    "from networkx.readwrite import json_graph"
   ]
  },
  {
   "cell_type": "code",
   "execution_count": null,
   "metadata": {
    "collapsed": true
   },
   "outputs": [],
   "source": [
    "with open(\"graph/nc_mini.json\", \"r\") as graph_data:\n",
    "    graph_data = json.load(graph_data)\n",
    "    NC_digraph = json_graph.node_link_graph(graph_data)"
   ]
  },
  {
   "cell_type": "code",
   "execution_count": null,
   "metadata": {
    "collapsed": false
   },
   "outputs": [],
   "source": [
    "NC_digraph.edges(data=True)"
   ]
  },
  {
   "cell_type": "code",
   "execution_count": null,
   "metadata": {
    "collapsed": false
   },
   "outputs": [],
   "source": [
    "NC_digraph.nodes('PpkKVodWC0sdn74TbHQLzA')"
   ]
  },
  {
   "cell_type": "code",
   "execution_count": null,
   "metadata": {
    "collapsed": false
   },
   "outputs": [],
   "source": [
    "print NC_digraph.number_of_nodes(), \"nodes\""
   ]
  },
  {
   "cell_type": "code",
   "execution_count": null,
   "metadata": {
    "collapsed": false
   },
   "outputs": [],
   "source": [
    "print NC_digraph.number_of_edges(), \"edges\""
   ]
  },
  {
   "cell_type": "code",
   "execution_count": null,
   "metadata": {
    "collapsed": false
   },
   "outputs": [],
   "source": [
    "NC_digraph.succ['Z1FWaNNO8oxaHLYB9XhQDg']"
   ]
  },
  {
   "cell_type": "markdown",
   "metadata": {},
   "source": [
    "### 2.2. Visualizing the Graph"
   ]
  },
  {
   "cell_type": "code",
   "execution_count": null,
   "metadata": {
    "collapsed": true
   },
   "outputs": [],
   "source": [
    "def print_graph(Graph, S1=None):\n",
    "    plt.figure(figsize=(16,10))\n",
    "    color_map = {1: 'b', 0: 'r'}\n",
    "    pos = nx.random_layout(Graph)\n",
    "    \n",
    "    if S1:\n",
    "        nx.draw_networkx(Graph, pos, with_labels=False, node_size=100, node_shape='.',\n",
    "                linewidth=None, width=0.2, edge_color='y', \n",
    "                node_color=[color_map[Graph.node[node]['action']] for node in Graph],\n",
    "                edgelist=reduce(lambda x,y: x+y,[Graph.edges(node) for node in S1]))\n",
    "        nx.draw_networkx_nodes(Graph, pos, nodelist=S1, node_color=\"b\", node_size=150, \n",
    "                              node_shape=\"*\", label=\"Initial Set\")\n",
    "        plt.legend()\n",
    "    else:\n",
    "        nx.draw_networkx(Graph, pos, with_labels=False, node_size=100, node_shape='.',\n",
    "                linewidth=None, width=0.2, edge_color='y', \n",
    "                 node_color=[color_map[Graph.node[node]['action']] for node in Graph])\n",
    "        \n",
    "    plt.xlim(-0.05,1.05)\n",
    "    plt.ylim(-0.05,1.05)\n",
    "    plt.xticks([])\n",
    "    plt.yticks([])\n",
    "    plt.show()"
   ]
  },
  {
   "cell_type": "code",
   "execution_count": null,
   "metadata": {
    "collapsed": false,
    "scrolled": true
   },
   "outputs": [],
   "source": [
    "print_graph(NC_digraph)"
   ]
  },
  {
   "cell_type": "code",
   "execution_count": null,
   "metadata": {
    "collapsed": false
   },
   "outputs": [],
   "source": [
    "NC_digraph\n"
   ]
  },
  {
   "cell_type": "code",
   "execution_count": null,
   "metadata": {
    "collapsed": false
   },
   "outputs": [],
   "source": [
    "#NC_digraph.node['uBUGZtTxmaG-8YpUWpU5_Q']['action']\n",
    "#NC_digraph.add_node('uBUGZtTxmaG-8YpUWpU5_Q', action = 0)\n",
    "print NC_digraph.node.keys()"
   ]
  },
  {
   "cell_type": "code",
   "execution_count": null,
   "metadata": {
    "collapsed": false
   },
   "outputs": [],
   "source": [
    "NC_digraph.node['GtcVim7Y43ALraAb3ritmQ']['action'] = 0\n",
    "NC_digraph.node['GtcVim7Y43ALraAb3ritmQ']['action']"
   ]
  },
  {
   "cell_type": "code",
   "execution_count": null,
   "metadata": {
    "collapsed": true
   },
   "outputs": [],
   "source": [
    "def reset():\n",
    "    for i in NC_digraph:\n",
    "        NC_digraph.node[i]['action'] = 0"
   ]
  },
  {
   "cell_type": "code",
   "execution_count": null,
   "metadata": {
    "collapsed": true
   },
   "outputs": [],
   "source": [
    "np.random.seed(24)\n",
    "init_nodes = np.random.choice(NC_digraph.nodes(), 1)[0]"
   ]
  },
  {
   "cell_type": "code",
   "execution_count": null,
   "metadata": {
    "collapsed": false
   },
   "outputs": [],
   "source": [
    "init_nodes"
   ]
  },
  {
   "cell_type": "code",
   "execution_count": null,
   "metadata": {
    "collapsed": true
   },
   "outputs": [],
   "source": [
    "def cascade(init_nodes):\n",
    "    NC_digraph.node[init_nodes]['action'] = 1\n",
    "    init_list = []\n",
    "    init_list.append(init_nodes)\n",
    "    while len(init_list) != 0 :\n",
    "        curr_node = init_list.pop(0)\n",
    "        #curr_node = init_list[0]\n",
    "        #init_list = init_list[1:]\n",
    "        for i in NC_digraph[curr_node]:\n",
    "            if NC_digraph.node[i]['action'] == 0:\n",
    "                b = NC_digraph.node[i]['review_count']\n",
    "                a =  NC_digraph[curr_node][i]['weight']\n",
    "                #np.random.seed(9)\n",
    "                b_dist = np.sqrt(np.random.beta(a = a, b = b))\n",
    "                #np.random.seed(9)\n",
    "                u_dist = np.random.uniform(0,1)\n",
    "                if b_dist > u_dist:\n",
    "                    #print init_list,'hi'\n",
    "                    #NC_digraph.add_node(i, action = 1)\n",
    "                    NC_digraph.node[i][\"action\"] = 1\n",
    "                    init_list.append(i)\n",
    "                    #print init_list,'bye'\n",
    "                #else:\n",
    "                 #   NC_digraph.node[i]['action'] = 2"
   ]
  },
  {
   "cell_type": "code",
   "execution_count": 31,
   "metadata": {
    "collapsed": false
   },
   "outputs": [],
   "source": [
    "def count():\n",
    "    n = sum([i[1]['action'] for i in NC_digraph.nodes(data = True)])\n",
    "    return n\n",
    "\n",
    "  \n",
    "#print NC_digraph.nodes(data=True)['PpkKVodWC0sdn74TbHQLzA']\n",
    "#NC_digraph.edges(data=True)\n",
    "#NC_digraph['PpkKVodWC0sdn74TbHQLzA']['S3HZF5aANmhZoMkFkPMdqQ']['weight']\n",
    "\n",
    "#type(NC_digraph.nodes(data=True))\n",
    "#nx.get_node_attributes(NC_digraph, 'review_count')['-_1ctLaz3jhPYc12hKXsEQ']"
   ]
  },
  {
   "cell_type": "code",
   "execution_count": 32,
   "metadata": {
    "collapsed": false
   },
   "outputs": [
    {
     "ename": "NameError",
     "evalue": "name 'NC_digraph' is not defined",
     "output_type": "error",
     "traceback": [
      "\u001b[0;31m---------------------------------------------------------------------------\u001b[0m",
      "\u001b[0;31mNameError\u001b[0m                                 Traceback (most recent call last)",
      "\u001b[0;32m<ipython-input-32-1fa09e1bb101>\u001b[0m in \u001b[0;36m<module>\u001b[0;34m()\u001b[0m\n\u001b[0;32m----> 1\u001b[0;31m \u001b[0mNC_digraph\u001b[0m\u001b[0;34m.\u001b[0m\u001b[0mnodes\u001b[0m\u001b[0;34m(\u001b[0m\u001b[0mdata\u001b[0m \u001b[0;34m=\u001b[0m \u001b[0mTrue\u001b[0m\u001b[0;34m)\u001b[0m\u001b[0;34m\u001b[0m\u001b[0m\n\u001b[0m",
      "\u001b[0;31mNameError\u001b[0m: name 'NC_digraph' is not defined"
     ]
    }
   ],
   "source": [
    "NC_digraph.nodes(data = True)"
   ]
  },
  {
   "cell_type": "code",
   "execution_count": 33,
   "metadata": {
    "collapsed": false
   },
   "outputs": [
    {
     "ename": "NameError",
     "evalue": "name 'reset' is not defined",
     "output_type": "error",
     "traceback": [
      "\u001b[0;31m---------------------------------------------------------------------------\u001b[0m",
      "\u001b[0;31mNameError\u001b[0m                                 Traceback (most recent call last)",
      "\u001b[0;32m<ipython-input-33-6c1e433f9ee4>\u001b[0m in \u001b[0;36m<module>\u001b[0;34m()\u001b[0m\n\u001b[0;32m----> 1\u001b[0;31m \u001b[0mreset\u001b[0m\u001b[0;34m(\u001b[0m\u001b[0;34m)\u001b[0m\u001b[0;34m\u001b[0m\u001b[0m\n\u001b[0m\u001b[1;32m      2\u001b[0m \u001b[0mcascade\u001b[0m\u001b[0;34m(\u001b[0m\u001b[0minit_nodes\u001b[0m\u001b[0;34m)\u001b[0m\u001b[0;34m\u001b[0m\u001b[0m\n\u001b[1;32m      3\u001b[0m \u001b[0;32mprint\u001b[0m \u001b[0mcount\u001b[0m\u001b[0;34m(\u001b[0m\u001b[0;34m)\u001b[0m\u001b[0;34m\u001b[0m\u001b[0m\n\u001b[1;32m      4\u001b[0m \u001b[0;34m\u001b[0m\u001b[0m\n\u001b[1;32m      5\u001b[0m \u001b[0;34m\u001b[0m\u001b[0m\n",
      "\u001b[0;31mNameError\u001b[0m: name 'reset' is not defined"
     ]
    }
   ],
   "source": [
    "reset()\n",
    "cascade(init_nodes)\n",
    "print count()\n",
    "\n",
    "          "
   ]
  },
  {
   "cell_type": "code",
   "execution_count": 26,
   "metadata": {
    "collapsed": false
   },
   "outputs": [
    {
     "name": "stderr",
     "output_type": "stream",
     "text": [
      "ERROR: Line magic function `%lprun` not found.\n"
     ]
    }
   ],
   "source": [
    "%lprun -f count count() #N = 100 --- 71.6238 s"
   ]
  },
  {
   "cell_type": "code",
   "execution_count": null,
   "metadata": {
    "collapsed": true
   },
   "outputs": [],
   "source": [
    "NC_digraph.node"
   ]
  },
  {
   "cell_type": "code",
   "execution_count": null,
   "metadata": {
    "collapsed": false
   },
   "outputs": [],
   "source": [
    "np.random.beta?"
   ]
  },
  {
   "cell_type": "code",
   "execution_count": null,
   "metadata": {
    "collapsed": false
   },
   "outputs": [],
   "source": [
    "NC_digraph.nodes(data=True)"
   ]
  },
  {
   "cell_type": "code",
   "execution_count": null,
   "metadata": {
    "collapsed": false
   },
   "outputs": [],
   "source": [
    "def b_test(N):\n",
    "    result = []\n",
    "    #start_time  = time.time()\n",
    "#     np.random.seed(24)\n",
    "    for i in range(N):\n",
    "        reset()\n",
    "        cascade(init_nodes)\n",
    "        result.append(count())\n",
    "    #return {'mean':np.mean(result), 'var':np.std(result)}\n",
    " "
   ]
  },
  {
   "cell_type": "code",
   "execution_count": 30,
   "metadata": {
    "collapsed": false
   },
   "outputs": [
    {
     "name": "stderr",
     "output_type": "stream",
     "text": [
      "UsageError: Could not find function u'b_test'.\n",
      "NameError: name 'b_test' is not defined"
     ]
    }
   ],
   "source": [
    "%lprun -f b_test b_test(1000)\n"
   ]
  },
  {
   "cell_type": "code",
   "execution_count": null,
   "metadata": {
    "collapsed": false
   },
   "outputs": [],
   "source": [
    "%lprun -f b_test b_test(24) #N = 100 --- 71.6238 s"
   ]
  },
  {
   "cell_type": "code",
   "execution_count": null,
   "metadata": {
    "collapsed": false
   },
   "outputs": [],
   "source": [
    "#N: number of runs for an influence estimate I^\n",
    "\n",
    "def c_test(root_seed = 24):\n",
    "    result = []\n",
    "    for i in range(100):\n",
    "        tmp = b_test(100, root_seed)\n",
    "        result.append(tmp['mean'])\n",
    "    return {'mean':np.mean(result), 'std': np.std(result)}\n",
    "\n",
    "def test_plot(sample_list):\n",
    "    sample_mean = []\n",
    "    sample_std = []\n",
    "    for i in sample_list:\n",
    "        sample_mean.append(c_test(i)['mean'])\n",
    "        sample_std.append(np.std(sample_mean[i]))\n",
    "    plt.plot(sample_list, sample_mean, label = 'MEAN')\n",
    "    plt.plot(sample_list, sample_std, label = 'STD')\n",
    "    print 'mean', sample_mean\n",
    "    print 'std', sample_std\n",
    "    plt.legend()\n"
   ]
  },
  {
   "cell_type": "code",
   "execution_count": null,
   "metadata": {
    "collapsed": false
   },
   "outputs": [],
   "source": [
    "test_plot([100, 300, 1000])"
   ]
  },
  {
   "cell_type": "code",
   "execution_count": null,
   "metadata": {
    "collapsed": false
   },
   "outputs": [],
   "source": [
    "c_test(24)"
   ]
  },
  {
   "cell_type": "code",
   "execution_count": null,
   "metadata": {
    "collapsed": false
   },
   "outputs": [],
   "source": [
    "print 1"
   ]
  },
  {
   "cell_type": "code",
   "execution_count": null,
   "metadata": {
    "collapsed": true
   },
   "outputs": [],
   "source": []
  }
 ],
 "metadata": {
  "kernelspec": {
   "display_name": "Python 2",
   "language": "python",
   "name": "python2"
  },
  "language_info": {
   "codemirror_mode": {
    "name": "ipython",
    "version": 2
   },
   "file_extension": ".py",
   "mimetype": "text/x-python",
   "name": "python",
   "nbconvert_exporter": "python",
   "pygments_lexer": "ipython2",
   "version": "2.7.10"
  }
 },
 "nbformat": 4,
 "nbformat_minor": 0
}
